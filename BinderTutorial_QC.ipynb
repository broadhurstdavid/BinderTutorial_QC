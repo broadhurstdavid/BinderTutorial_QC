{
 "cells": [
  {
   "cell_type": "markdown",
   "metadata": {},
   "source": [
    "# Step 1\n",
    "\n",
    "a) Import the pandas python module ( https://pandas.pydata.org/ ).<br>\n",
    "b) Import the excel sheet \"Data\" from excel file \"data.xlsx\" into a data frame called \"data\".<br>\n",
    "c) Display the numbe of rows and column.<br>\n",
    "d) Display the fist 10 rows at the top (head) of the data frame.<br>"
   ]
  },
  {
   "cell_type": "code",
   "execution_count": null,
   "metadata": {},
   "outputs": [],
   "source": [
    "import pandas as pd\n",
    "\n",
    "data = pd.read_excel('data.xlsx', sheet_name='Data')\n",
    "\n",
    "print(\"Data Table: {} rows & {} columns\".format(*data.shape))\n",
    "display(data.head(10))\n",
    "\n",
    "peak = pd.read_excel('data.xlsx', sheet_name='Peak')\n",
    "print(\"Peak Table: {} rows & {} columns\".format(*peak.shape))\n",
    "display(peak.head(10))"
   ]
  },
  {
   "cell_type": "markdown",
   "metadata": {},
   "source": [
    "# Step 2\n",
    "\n",
    "  \n",
    "a) Import the excel sheet \"Peak\" from excel file \"data.xlsx\" into a data frame called \"peak\".<br>\n",
    "b) Display the numbe of rows and column.<br>\n",
    "c) Display the fist 10 rows at the top (head) of the data frame.<br>"
   ]
  },
  {
   "cell_type": "code",
   "execution_count": null,
   "metadata": {},
   "outputs": [],
   "source": [
    "import matplotlib.pyplot as plt\n",
    "%matplotlib inline\n",
    "\n",
    "fig = plt.figure(figsize=(15,4))\n",
    "plt.subplot(1, 2, 1)\n",
    "plt.hist(peak.RSD, 50, density=True, facecolor='g', alpha=0.5)\n",
    "plt.xlabel('RSD', fontsize=15)\n",
    "plt.subplot(1, 2, 2)\n",
    "h2 = plt.hist(peak.D_Ratio, 50, density=True, facecolor='r', alpha=0.5)\n",
    "plt.xlabel('D Ratio', fontsize=15)\n",
    "plt.show()"
   ]
  },
  {
   "cell_type": "code",
   "execution_count": null,
   "metadata": {},
   "outputs": [],
   "source": [
    "import seaborn as sns\n",
    "\n",
    "sns.jointplot(x=peak.RSD, y=peak.D_Ratio, kind='kde', color=\"skyblue\")"
   ]
  },
  {
   "cell_type": "code",
   "execution_count": null,
   "metadata": {},
   "outputs": [],
   "source": [
    "import numpy as np\n",
    "from sklearn.decomposition import PCA\n",
    "from sklearn.preprocessing import StandardScaler\n",
    "\n",
    "import matplotlib.pyplot as plt\n",
    "from matplotlib.colors import ListedColormap\n",
    "\n",
    "names = peak['Name']\n",
    "x = data[names].values\n",
    "x = np.log(x)\n",
    "x = StandardScaler().fit_transform(x)\n",
    "\n",
    "pca = PCA(n_components=2)\n",
    "scores = pca.fit_transform(x)\n",
    "label = data['SampleType']\n",
    "\n",
    "Sample_scores = scores[label == 'Sample',:]\n",
    "QC_scores = scores[label == 'QC',:]\n",
    "\n",
    "fig = plt.figure(figsize=(8,8))\n",
    "\n",
    "h1 = plt.scatter(Sample_scores[:,0],Sample_scores[:,1],edgecolors='Black', facecolors='Green',s=100,alpha=0.5)\n",
    "h2 = plt.scatter(QC_scores[:,0],QC_scores[:,1], edgecolors='Black', facecolors='Red',s=100,alpha=0.5)\n",
    "\n",
    "plt.legend((h1,h2),('Sample','QC'),fontsize=15)\n",
    "\n",
    "plt.xlabel('PC1', fontsize=15)\n",
    "plt.ylabel('PC2', fontsize=15)\n",
    "plt.title('Quality Control PCA plot',fontsize=20)\n",
    "\n",
    "plt.show()"
   ]
  },
  {
   "cell_type": "code",
   "execution_count": null,
   "metadata": {},
   "outputs": [],
   "source": [
    "fig = plt.figure(figsize=(20,16))\n",
    "plt.scatter(peak.Mol_Weight,peak.RT_minutes, s = peak.RSD**2/2,alpha=0.2, edgecolors = 'k',c = 'r')\n",
    "plt.xlabel('Molecular Weight', fontsize=15)\n",
    "plt.ylabel('RT minutes', fontsize=15)\n",
    "plt.title('Metabolites Detected (sized by RSD)',fontsize=20)\n",
    "plt.show()"
   ]
  },
  {
   "cell_type": "code",
   "execution_count": null,
   "metadata": {},
   "outputs": [],
   "source": []
  }
 ],
 "metadata": {
  "kernelspec": {
   "display_name": "Python 3",
   "language": "python",
   "name": "python3"
  },
  "language_info": {
   "codemirror_mode": {
    "name": "ipython",
    "version": 3
   },
   "file_extension": ".py",
   "mimetype": "text/x-python",
   "name": "python",
   "nbconvert_exporter": "python",
   "pygments_lexer": "ipython3",
   "version": "3.6.8"
  },
  "toc": {
   "base_numbering": 1,
   "nav_menu": {},
   "number_sections": false,
   "sideBar": false,
   "skip_h1_title": false,
   "title_cell": "Table of Contents",
   "title_sidebar": "Contents",
   "toc_cell": false,
   "toc_position": {},
   "toc_section_display": false,
   "toc_window_display": false
  }
 },
 "nbformat": 4,
 "nbformat_minor": 2
}
